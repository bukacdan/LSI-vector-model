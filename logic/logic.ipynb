{
 "cells": [
  {
   "cell_type": "code",
   "execution_count": 1,
   "id": "united-accommodation",
   "metadata": {},
   "outputs": [],
   "source": [
    "from sklearn.datasets import fetch_20newsgroups"
   ]
  },
  {
   "cell_type": "code",
   "execution_count": 2,
   "id": "internal-delight",
   "metadata": {},
   "outputs": [],
   "source": [
    "dataset = fetch_20newsgroups(data_home='./sklearn_data', \n",
    "                             remove=['headers', 'footers', 'quotes'])"
   ]
  }
 ],
 "metadata": {
  "kernelspec": {
   "display_name": "Python (conda-LSI_dev)",
   "language": "python",
   "name": "lsi_dev"
  },
  "language_info": {
   "codemirror_mode": {
    "name": "ipython",
    "version": 3
   },
   "file_extension": ".py",
   "mimetype": "text/x-python",
   "name": "python",
   "nbconvert_exporter": "python",
   "pygments_lexer": "ipython3",
   "version": "3.9.2"
  }
 },
 "nbformat": 4,
 "nbformat_minor": 5
}
