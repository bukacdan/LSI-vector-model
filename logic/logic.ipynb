{
 "cells": [
  {
   "cell_type": "code",
   "execution_count": 2,
   "id": "printable-diagnosis",
   "metadata": {},
   "outputs": [],
   "source": [
    "import os\n",
    "import nltk\n",
    "\n",
    "import numpy as np\n",
    "import pandas as pd\n",
    "import sklearn\n",
    "\n",
    "from nltk.corpus import stopwords\n",
    "from nltk.stem import WordNetLemmatizer\n",
    "from scipy.sparse.linalg import svds\n",
    "from sklearn.datasets import fetch_20newsgroups\n",
    "from sklearn.decomposition import TruncatedSVD\n",
    "from sklearn.feature_extraction.text import TfidfVectorizer\n",
    "from sklearn.metrics.pairwise import cosine_similarity"
   ]
  },
  {
   "cell_type": "code",
   "execution_count": 3,
   "id": "exposed-batman",
   "metadata": {},
   "outputs": [
    {
     "name": "stderr",
     "output_type": "stream",
     "text": [
      "[nltk_data] Downloading package porter_test to /home/matej/dev/fit/bi-\n",
      "[nltk_data]     vwm/lsi-vector-model/logic/nltk_data...\n",
      "[nltk_data]   Package porter_test is already up-to-date!\n",
      "[nltk_data] Downloading package rslp to /home/matej/dev/fit/bi-\n",
      "[nltk_data]     vwm/lsi-vector-model/logic/nltk_data...\n",
      "[nltk_data]   Package rslp is already up-to-date!\n",
      "[nltk_data] Downloading package wordnet to /home/matej/dev/fit/bi-\n",
      "[nltk_data]     vwm/lsi-vector-model/logic/nltk_data...\n",
      "[nltk_data]   Package wordnet is already up-to-date!\n"
     ]
    }
   ],
   "source": [
    "NLTK_DATA_PATH = \"./nltk_data\"\n",
    "nltk.download(['porter_test', 'rslp', 'wordnet'], download_dir=os.path.abspath(NLTK_DATA_PATH))\n",
    "nltk.data.path.append(os.path.abspath(NLTK_DATA_PATH))"
   ]
  },
  {
   "cell_type": "markdown",
   "id": "rocky-congo",
   "metadata": {},
   "source": [
    "# Getting data"
   ]
  },
  {
   "cell_type": "code",
   "execution_count": 4,
   "id": "decimal-forum",
   "metadata": {},
   "outputs": [],
   "source": [
    "dataset = fetch_20newsgroups(\n",
    "    subset='all', \n",
    "    data_home='./sklearn_data', \n",
    "    remove=('headers', 'footers', 'quotes')\n",
    ")\n",
    "documents = dataset.data"
   ]
  },
  {
   "cell_type": "markdown",
   "id": "southern-chest",
   "metadata": {},
   "source": [
    "Example document before preprocessing"
   ]
  },
  {
   "cell_type": "code",
   "execution_count": 5,
   "id": "colonial-constitution",
   "metadata": {},
   "outputs": [
    {
     "data": {
      "text/plain": [
       "\"\\n\\nI am sure some bashers of Pens fans are pretty confused about the lack\\nof any kind of posts about the recent Pens massacre of the Devils. Actually,\\nI am  bit puzzled too and a bit relieved. However, I am going to put an end\\nto non-PIttsburghers' relief with a bit of praise for the Pens. Man, they\\nare killing those Devils worse than I thought. Jagr just showed you why\\nhe is much better than his regular season stats. He is also a lot\\nfo fun to watch in the playoffs. Bowman should let JAgr have a lot of\\nfun in the next couple of games since the Pens are going to beat the pulp out of Jersey anyway. I was very disappointed not to see the Islanders lose the final\\nregular season game.          PENS RULE!!!\\n\\n\""
      ]
     },
     "execution_count": 5,
     "metadata": {},
     "output_type": "execute_result"
    }
   ],
   "source": [
    "documents[0]"
   ]
  },
  {
   "cell_type": "markdown",
   "id": "automatic-familiar",
   "metadata": {},
   "source": [
    "Pandas dataframe with documents"
   ]
  },
  {
   "cell_type": "code",
   "execution_count": 6,
   "id": "canadian-purpose",
   "metadata": {},
   "outputs": [
    {
     "data": {
      "text/html": [
       "<div>\n",
       "<style scoped>\n",
       "    .dataframe tbody tr th:only-of-type {\n",
       "        vertical-align: middle;\n",
       "    }\n",
       "\n",
       "    .dataframe tbody tr th {\n",
       "        vertical-align: top;\n",
       "    }\n",
       "\n",
       "    .dataframe thead th {\n",
       "        text-align: right;\n",
       "    }\n",
       "</style>\n",
       "<table border=\"1\" class=\"dataframe\">\n",
       "  <thead>\n",
       "    <tr style=\"text-align: right;\">\n",
       "      <th></th>\n",
       "      <th>document</th>\n",
       "    </tr>\n",
       "  </thead>\n",
       "  <tbody>\n",
       "    <tr>\n",
       "      <th>0</th>\n",
       "      <td>\\n\\nI am sure some bashers of Pens fans are pr...</td>\n",
       "    </tr>\n",
       "    <tr>\n",
       "      <th>1</th>\n",
       "      <td>My brother is in the market for a high-perform...</td>\n",
       "    </tr>\n",
       "    <tr>\n",
       "      <th>2</th>\n",
       "      <td>\\n\\n\\n\\n\\tFinally you said what you dream abou...</td>\n",
       "    </tr>\n",
       "    <tr>\n",
       "      <th>3</th>\n",
       "      <td>\\nThink!\\n\\nIt's the SCSI card doing the DMA t...</td>\n",
       "    </tr>\n",
       "    <tr>\n",
       "      <th>4</th>\n",
       "      <td>1)    I have an old Jasmine drive which I cann...</td>\n",
       "    </tr>\n",
       "    <tr>\n",
       "      <th>...</th>\n",
       "      <td>...</td>\n",
       "    </tr>\n",
       "    <tr>\n",
       "      <th>18841</th>\n",
       "      <td>DN&gt; From: nyeda@cnsvax.uwec.edu (David Nye)\\nD...</td>\n",
       "    </tr>\n",
       "    <tr>\n",
       "      <th>18842</th>\n",
       "      <td>\\nNot in isolated ground recepticles (usually ...</td>\n",
       "    </tr>\n",
       "    <tr>\n",
       "      <th>18843</th>\n",
       "      <td>I just installed a DX2-66 CPU in a clone mothe...</td>\n",
       "    </tr>\n",
       "    <tr>\n",
       "      <th>18844</th>\n",
       "      <td>\\nWouldn't this require a hyper-sphere.  In 3-...</td>\n",
       "    </tr>\n",
       "    <tr>\n",
       "      <th>18845</th>\n",
       "      <td>After a tip from Gary Crum (crum@fcom.cc.utah....</td>\n",
       "    </tr>\n",
       "  </tbody>\n",
       "</table>\n",
       "<p>18846 rows × 1 columns</p>\n",
       "</div>"
      ],
      "text/plain": [
       "                                                document\n",
       "0      \\n\\nI am sure some bashers of Pens fans are pr...\n",
       "1      My brother is in the market for a high-perform...\n",
       "2      \\n\\n\\n\\n\\tFinally you said what you dream abou...\n",
       "3      \\nThink!\\n\\nIt's the SCSI card doing the DMA t...\n",
       "4      1)    I have an old Jasmine drive which I cann...\n",
       "...                                                  ...\n",
       "18841  DN> From: nyeda@cnsvax.uwec.edu (David Nye)\\nD...\n",
       "18842  \\nNot in isolated ground recepticles (usually ...\n",
       "18843  I just installed a DX2-66 CPU in a clone mothe...\n",
       "18844  \\nWouldn't this require a hyper-sphere.  In 3-...\n",
       "18845  After a tip from Gary Crum (crum@fcom.cc.utah....\n",
       "\n",
       "[18846 rows x 1 columns]"
      ]
     },
     "execution_count": 6,
     "metadata": {},
     "output_type": "execute_result"
    }
   ],
   "source": [
    "documents_df = pd.DataFrame({'document': documents})\n",
    "documents_df"
   ]
  },
  {
   "cell_type": "markdown",
   "id": "governmental-radiation",
   "metadata": {},
   "source": [
    "# Preprocessing documents"
   ]
  },
  {
   "cell_type": "code",
   "execution_count": 7,
   "id": "dynamic-trustee",
   "metadata": {},
   "outputs": [],
   "source": [
    "def clean_documents(df, min_word_length: int = 1):\n",
    "    lemmatizer = WordNetLemmatizer()\n",
    "    df['document_cleaned'] = pd.Series(df[\"document\"])\n",
    "    df['document_cleaned'] = (\n",
    "        df['document_cleaned']\n",
    "            .pipe(lambda x: x.str.lower())  # make all letters lowercase \n",
    "            .pipe(lambda x: x.str.replace(\"\\S*@\\S*\\s?\", \"\", regex=True)) # remove email addresses\n",
    "            .pipe(lambda x: x.str.replace(\"[^a-zA-Z#]\", \" \", regex=True)) # remove non-alphabetical characters\n",
    "            .pipe(lambda x: pd.Series([' '.join([lemmatizer.lemmatize(w) for w in line]) for line in x.str.split()])) # lemmatization\n",
    "            .pipe(lambda x: pd.Series([' '.join([w for w in line if len(w) >= min_word_length]) for line in x.str.split()])) # get rid of short words\n",
    "    )"
   ]
  },
  {
   "cell_type": "code",
   "execution_count": 8,
   "id": "simple-register",
   "metadata": {},
   "outputs": [
    {
     "data": {
      "text/html": [
       "<div>\n",
       "<style scoped>\n",
       "    .dataframe tbody tr th:only-of-type {\n",
       "        vertical-align: middle;\n",
       "    }\n",
       "\n",
       "    .dataframe tbody tr th {\n",
       "        vertical-align: top;\n",
       "    }\n",
       "\n",
       "    .dataframe thead th {\n",
       "        text-align: right;\n",
       "    }\n",
       "</style>\n",
       "<table border=\"1\" class=\"dataframe\">\n",
       "  <thead>\n",
       "    <tr style=\"text-align: right;\">\n",
       "      <th></th>\n",
       "      <th>document</th>\n",
       "      <th>document_cleaned</th>\n",
       "    </tr>\n",
       "  </thead>\n",
       "  <tbody>\n",
       "    <tr>\n",
       "      <th>0</th>\n",
       "      <td>\\n\\nI am sure some bashers of Pens fans are pr...</td>\n",
       "      <td>am sure some bashers of pen fan are pretty con...</td>\n",
       "    </tr>\n",
       "    <tr>\n",
       "      <th>1</th>\n",
       "      <td>My brother is in the market for a high-perform...</td>\n",
       "      <td>my brother is in the market for high performan...</td>\n",
       "    </tr>\n",
       "    <tr>\n",
       "      <th>2</th>\n",
       "      <td>\\n\\n\\n\\n\\tFinally you said what you dream abou...</td>\n",
       "      <td>finally you said what you dream about mediterr...</td>\n",
       "    </tr>\n",
       "    <tr>\n",
       "      <th>3</th>\n",
       "      <td>\\nThink!\\n\\nIt's the SCSI card doing the DMA t...</td>\n",
       "      <td>think it the scsi card doing the dma transfer ...</td>\n",
       "    </tr>\n",
       "    <tr>\n",
       "      <th>4</th>\n",
       "      <td>1)    I have an old Jasmine drive which I cann...</td>\n",
       "      <td>have an old jasmine drive which cannot use wit...</td>\n",
       "    </tr>\n",
       "    <tr>\n",
       "      <th>...</th>\n",
       "      <td>...</td>\n",
       "      <td>...</td>\n",
       "    </tr>\n",
       "    <tr>\n",
       "      <th>18841</th>\n",
       "      <td>DN&gt; From: nyeda@cnsvax.uwec.edu (David Nye)\\nD...</td>\n",
       "      <td>dn from david nye dn neurology dn consultation...</td>\n",
       "    </tr>\n",
       "    <tr>\n",
       "      <th>18842</th>\n",
       "      <td>\\nNot in isolated ground recepticles (usually ...</td>\n",
       "      <td>not in isolated ground recepticles usually an ...</td>\n",
       "    </tr>\n",
       "    <tr>\n",
       "      <th>18843</th>\n",
       "      <td>I just installed a DX2-66 CPU in a clone mothe...</td>\n",
       "      <td>just installed dx cpu in clone motherboard and...</td>\n",
       "    </tr>\n",
       "    <tr>\n",
       "      <th>18844</th>\n",
       "      <td>\\nWouldn't this require a hyper-sphere.  In 3-...</td>\n",
       "      <td>wouldn this require hyper sphere in space poin...</td>\n",
       "    </tr>\n",
       "    <tr>\n",
       "      <th>18845</th>\n",
       "      <td>After a tip from Gary Crum (crum@fcom.cc.utah....</td>\n",
       "      <td>after tip from gary crum got on the phone with...</td>\n",
       "    </tr>\n",
       "  </tbody>\n",
       "</table>\n",
       "<p>18846 rows × 2 columns</p>\n",
       "</div>"
      ],
      "text/plain": [
       "                                                document  \\\n",
       "0      \\n\\nI am sure some bashers of Pens fans are pr...   \n",
       "1      My brother is in the market for a high-perform...   \n",
       "2      \\n\\n\\n\\n\\tFinally you said what you dream abou...   \n",
       "3      \\nThink!\\n\\nIt's the SCSI card doing the DMA t...   \n",
       "4      1)    I have an old Jasmine drive which I cann...   \n",
       "...                                                  ...   \n",
       "18841  DN> From: nyeda@cnsvax.uwec.edu (David Nye)\\nD...   \n",
       "18842  \\nNot in isolated ground recepticles (usually ...   \n",
       "18843  I just installed a DX2-66 CPU in a clone mothe...   \n",
       "18844  \\nWouldn't this require a hyper-sphere.  In 3-...   \n",
       "18845  After a tip from Gary Crum (crum@fcom.cc.utah....   \n",
       "\n",
       "                                        document_cleaned  \n",
       "0      am sure some bashers of pen fan are pretty con...  \n",
       "1      my brother is in the market for high performan...  \n",
       "2      finally you said what you dream about mediterr...  \n",
       "3      think it the scsi card doing the dma transfer ...  \n",
       "4      have an old jasmine drive which cannot use wit...  \n",
       "...                                                  ...  \n",
       "18841  dn from david nye dn neurology dn consultation...  \n",
       "18842  not in isolated ground recepticles usually an ...  \n",
       "18843  just installed dx cpu in clone motherboard and...  \n",
       "18844  wouldn this require hyper sphere in space poin...  \n",
       "18845  after tip from gary crum got on the phone with...  \n",
       "\n",
       "[18846 rows x 2 columns]"
      ]
     },
     "execution_count": 8,
     "metadata": {},
     "output_type": "execute_result"
    }
   ],
   "source": [
    "clean_documents(documents_df, min_word_length=2)\n",
    "documents_df"
   ]
  },
  {
   "cell_type": "markdown",
   "id": "attended-asbestos",
   "metadata": {},
   "source": [
    "# Create term-by-document matrix"
   ]
  },
  {
   "cell_type": "code",
   "execution_count": 9,
   "id": "magnetic-ordinance",
   "metadata": {},
   "outputs": [
    {
     "name": "stdout",
     "output_type": "stream",
     "text": [
      "Found 77872 terms in 18846 documents.\n",
      "Example terms: ['aa', 'aaa', 'aaaaa', 'aaaaaaaaaaaa', 'aaaaaaaaaaaaaaaaaaaaaaaaaaaaaaauuuuuuuuuuuuuuuuuuuuuuuuuuuuuuuugggggggggggggggg', 'aaaaarrrrgh', 'aaaall', 'aaack', 'aaaggghhh', 'aaah', 'aaahh', 'aaahhhh', 'aaai', 'aaaread', 'aab', 'aacc', 'aachen', 'aacs', 'aaef', 'aaf']\n"
     ]
    }
   ],
   "source": [
    "tfidf = TfidfVectorizer(stop_words='english')\n",
    "tdm = tfidf.fit_transform(documents_df.document_cleaned)\n",
    "terms = tfidf.get_feature_names()\n",
    "print(f'Found {tdm.shape[1]} terms in {tdm.shape[0]} documents.')\n",
    "print(\"Example terms:\", terms[:20])"
   ]
  },
  {
   "cell_type": "markdown",
   "id": "alternate-rally",
   "metadata": {},
   "source": [
    "# SVD"
   ]
  },
  {
   "cell_type": "markdown",
   "id": "polyphonic-manner",
   "metadata": {},
   "source": [
    "## sklearn.decomposition.TruncatedSVD"
   ]
  },
  {
   "cell_type": "code",
   "execution_count": 10,
   "id": "registered-wellington",
   "metadata": {},
   "outputs": [],
   "source": [
    "tsvd = TruncatedSVD(n_components=15, random_state=42)\n",
    "tdm_tsvd = tsvd.fit_transform(tdm)"
   ]
  },
  {
   "cell_type": "code",
   "execution_count": 11,
   "id": "preceding-funds",
   "metadata": {},
   "outputs": [
    {
     "name": "stdout",
     "output_type": "stream",
     "text": [
      "Topic 01: ['wa', 'know', 'ha', 'don', 'like', 'just', 'people', 'think', 'time', 'doe']\n",
      "Topic 02: ['window', 'drive', 'card', 'file', 'thanks', 'disk', 'driver', 'program', 'mb', 'scsi']\n",
      "Topic 03: ['game', 'drive', 'wa', 'team', 'year', 'player', 'car', 'scsi', 'hockey', 'season']\n",
      "Topic 04: ['drive', 'god', 'scsi', 'mb', 'ide', 'disk', 'controller', 'hard', 'card', 'floppy']\n",
      "Topic 05: ['key', 'chip', 'government', 'encryption', 'clipper', 'phone', 'law', 'escrow', 'gun', 'algorithm']\n",
      "Topic 06: ['wa', 'window', 'armenian', 'drive', 'file', 'problem', 'car', 'gun', 'did', 'israel']\n",
      "Topic 07: ['thanks', 'car', 'mail', 'know', 'bike', 'looking', 'advance', 'list', 'email', 'doe']\n",
      "Topic 08: ['card', 'wa', 'video', 'driver', 'monitor', 'chip', 'bit', 'bus', 'color', 'mode']\n",
      "Topic 09: ['wa', 'thanks', 'key', 'mail', 'chip', 'god', 'file', 'information', 'address', 'armenian']\n",
      "Topic 10: ['armenian', 'people', 'israel', 'card', 'game', 'arab', 'gun', 'government', 'jew', 'israeli']\n",
      "Topic 11: ['know', 'thanks', 'doe', 'window', 'don', 'drive', 'wa', 'key', 'advance', 'chip']\n",
      "Topic 12: ['window', 'armenian', 'god', 'thanks', 'new', 'mail', 'sale', 'key', 'drive', 'offer']\n",
      "Topic 13: ['car', 'file', 'card', 'driver', 'god', 'know', 'key', 'gun', 'drive', 'armenian']\n",
      "Topic 14: ['armenian', 'bit', 'like', 'bike', 'muslim', 'know', 'key', 'turkish', 'genocide', 'problem']\n",
      "Topic 15: ['monitor', 'gun', 'armenian', 'modem', 'file', 'game', 'god', 'apple', 'mac', 'color']\n"
     ]
    }
   ],
   "source": [
    "for i, components in enumerate(tsvd.components_):\n",
    "    terms_components = zip(terms, components)\n",
    "    sorted_terms = sorted(terms_components, key=lambda x:x[1], reverse=True)[:10]\n",
    "    print(f\"Topic {str(i + 1).zfill(2)}: {[term[0] for term in sorted_terms]}\")"
   ]
  },
  {
   "cell_type": "markdown",
   "id": "comparable-beauty",
   "metadata": {},
   "source": [
    "This is our **concept-by-term matrix**"
   ]
  },
  {
   "cell_type": "code",
   "execution_count": 12,
   "id": "usual-absorption",
   "metadata": {},
   "outputs": [
    {
     "data": {
      "text/plain": [
       "(15, 77872)"
      ]
     },
     "execution_count": 12,
     "metadata": {},
     "output_type": "execute_result"
    }
   ],
   "source": [
    "tsvd.components_.shape"
   ]
  },
  {
   "cell_type": "markdown",
   "id": "coordinate-marble",
   "metadata": {},
   "source": [
    "## scipy.sparse.linalg.svds"
   ]
  },
  {
   "cell_type": "code",
   "execution_count": 13,
   "id": "disturbed-message",
   "metadata": {},
   "outputs": [],
   "source": [
    "u, s, vt = svds(tdm, k=15)"
   ]
  },
  {
   "cell_type": "code",
   "execution_count": 14,
   "id": "aggregate-organ",
   "metadata": {},
   "outputs": [
    {
     "data": {
      "text/plain": [
       "(18846, 77872)"
      ]
     },
     "metadata": {},
     "output_type": "display_data"
    },
    {
     "data": {
      "text/plain": [
       "(18846, 15)"
      ]
     },
     "metadata": {},
     "output_type": "display_data"
    },
    {
     "data": {
      "text/plain": [
       "(15,)"
      ]
     },
     "metadata": {},
     "output_type": "display_data"
    },
    {
     "data": {
      "text/plain": [
       "(15, 77872)"
      ]
     },
     "metadata": {},
     "output_type": "display_data"
    }
   ],
   "source": [
    "display(tdm.shape)\n",
    "display(u.shape)\n",
    "display(s.shape)\n",
    "display(vt.shape)"
   ]
  },
  {
   "cell_type": "markdown",
   "id": "simple-accommodation",
   "metadata": {},
   "source": [
    "- **tdm matrix**: shape(number_of_documents, number_of_terms) $\\Leftrightarrow$ term-by-document matrix\n",
    "- **u matrix**: shape(number_of_documents, number_of_concepts) $\\Leftrightarrow$ concept-by-document matrix\n",
    "- **s vector**: shape(number_of_concepts,) $\\Leftrightarrow$ concepts\n",
    "- **vt matrix**: shape(number_of_concepts, number_of_terms) $\\Leftrightarrow$ concept-by-term matrix"
   ]
  },
  {
   "cell_type": "markdown",
   "id": "significant-nutrition",
   "metadata": {},
   "source": [
    "# Representing query"
   ]
  },
  {
   "cell_type": "code",
   "execution_count": 15,
   "id": "intended-creek",
   "metadata": {},
   "outputs": [
    {
     "name": "stdout",
     "output_type": "stream",
     "text": [
      "(1, 77872)\n",
      "(1, 15)\n"
     ]
    }
   ],
   "source": [
    "query = 'jagr'\n",
    "query = query.split()\n",
    "\n",
    "lemmatizer = WordNetLemmatizer()\n",
    "for i, q in enumerate(query):\n",
    "    query[i] = lemmatizer.lemmatize(q)\n",
    "query_tdm = tfidf.transform(query)\n",
    "query_tsvd = tsvd.transform(query_tdm) # probably not necessary\n",
    "print(query_tdm.shape)\n",
    "print(query_tsvd.shape)"
   ]
  },
  {
   "cell_type": "markdown",
   "id": "special-empty",
   "metadata": {},
   "source": [
    "# Representing document"
   ]
  },
  {
   "cell_type": "code",
   "execution_count": 29,
   "id": "biological-irish",
   "metadata": {},
   "outputs": [
    {
     "data": {
      "text/plain": [
       "<1x77872 sparse matrix of type '<class 'numpy.float64'>'\n",
       "\twith 39 stored elements in Compressed Sparse Row format>"
      ]
     },
     "metadata": {},
     "output_type": "display_data"
    }
   ],
   "source": [
    "document_idx = 3\n",
    "document_tdm = tdm[document_idx]\n",
    "display(document_tdm)"
   ]
  },
  {
   "cell_type": "markdown",
   "id": "successful-regression",
   "metadata": {},
   "source": [
    "# Cosine similarity"
   ]
  },
  {
   "cell_type": "code",
   "execution_count": 100,
   "id": "unlimited-associate",
   "metadata": {},
   "outputs": [],
   "source": [
    "query_concepts = query_tdm @ np.transpose(vt) # query projection to the space of concepts --> concept-by-query\n",
    "sim = cosine_similarity(u, query_concepts) # cosine similarity between concept-by-documents and concept-by-query\n",
    "acos = np.arccos(sim)"
   ]
  },
  {
   "cell_type": "markdown",
   "id": "mathematical-finnish",
   "metadata": {},
   "source": [
    "## The best document for each word in query"
   ]
  },
  {
   "cell_type": "code",
   "execution_count": 101,
   "id": "latter-nebraska",
   "metadata": {},
   "outputs": [
    {
     "name": "stdout",
     "output_type": "stream",
     "text": [
      "Windows - 0\n"
     ]
    }
   ],
   "source": [
    "best_documents = set()\n",
    "for i in range(acos.shape[1]):\n",
    "    print(query[i],end=\" - \")\n",
    "    print(np.argmin(acos[:, i]))\n",
    "    best_documents.add(np.argmin(acos[:, i]))"
   ]
  },
  {
   "cell_type": "code",
   "execution_count": 102,
   "id": "japanese-sound",
   "metadata": {},
   "outputs": [
    {
     "name": "stdout",
     "output_type": "stream",
     "text": [
      "\n",
      "\n",
      "I am sure some bashers of Pens fans are pretty confused about the lack\n",
      "of any kind of posts about the recent Pens massacre of the Devils. Actually,\n",
      "I am  bit puzzled too and a bit relieved. However, I am going to put an end\n",
      "to non-PIttsburghers' relief with a bit of praise for the Pens. Man, they\n",
      "are killing those Devils worse than I thought. Jagr just showed you why\n",
      "he is much better than his regular season stats. He is also a lot\n",
      "fo fun to watch in the playoffs. Bowman should let JAgr have a lot of\n",
      "fun in the next couple of games since the Pens are going to beat the pulp out of Jersey anyway. I was very disappointed not to see the Islanders lose the final\n",
      "regular season game.          PENS RULE!!!\n",
      "\n",
      "\n",
      "----------------------------------------------------------------------------------------------------\n"
     ]
    }
   ],
   "source": [
    "for document in best_documents:\n",
    "    print(documents_df.iloc[document][\"document\"])\n",
    "    print(100*\"-\")"
   ]
  },
  {
   "cell_type": "markdown",
   "id": "hazardous-bulletin",
   "metadata": {},
   "source": [
    "## Results are merged, limit number of outputs"
   ]
  },
  {
   "cell_type": "code",
   "execution_count": 94,
   "id": "toxic-import",
   "metadata": {},
   "outputs": [],
   "source": [
    "values_indexes = []\n",
    "for i in range(acos.shape[1]):\n",
    "    for j, val in enumerate(acos[:, i]):\n",
    "        values_indexes.append({\"query\": query[i], \"angle\": val, \"document_index\": j})\n",
    "values_indexes.sort(key=lambda x: x[\"angle\"])"
   ]
  },
  {
   "cell_type": "code",
   "execution_count": 98,
   "id": "palestinian-sierra",
   "metadata": {},
   "outputs": [
    {
     "name": "stdout",
     "output_type": "stream",
     "text": [
      "Query: Canada, angle: 0.4436661623229077\n",
      "\n",
      "The probability is that the Oilers are not going anywhere.\n",
      "\n",
      "Pocklington has chosen this moment to make his \"last\" stand is\n",
      "because he is at the moment of maximum advantage...the provincial\n",
      "government is months away from a provincial election...it is\n",
      "the moment when he has maximum power to convince Northlands\n",
      "to give him a better arena deal or a better purchase price...\n",
      "and it is before the NHL's new collective agreement with\n",
      "the players which might involve some enhanced revenue-sharing.\n",
      "\n",
      "Pocklington is many things...stupid is not one of them.\n",
      "\n",
      "He can dictate terms...because other cities will pay his\n",
      "price if Edmonton doesn't.\n",
      "\n",
      "Edmonton has already fucked up its international airport, and\n",
      "surrendered supremacy to Calgary, and over the next few years\n",
      "Edmonton is going to take a hard hit from government cutbacks.\n",
      "It will screw itself beyond recogniton if it manages to find\n",
      "a way to lose its hockey team too...because Northlands wants\n",
      "to continue to use the Oilers to subsidize horse racing.\n",
      "\n",
      "However, in this case, about the long-term financial\n",
      "viability of the Oilers, the fact is that Pocklington is basically \n",
      "right, regardless of who owns the team, and it is right to provoke\n",
      "the crisis now, before the team accumulates millions of dollars\n",
      "in losses, or becomes habitually uncompetitive because of lack\n",
      "of money.\n",
      "\n",
      "Sather has done his job...the Oilers are poised to be competitive\n",
      "again very soon (Al Strachan, one of the most knowledgeble hockey\n",
      "writers in Canada in a post-mortem of the Oilers season in\n",
      "the Globe and Mail recently agrees with me.)\n",
      "----------------------------------------------------------------------------------------------------\n",
      "Query: Canada, angle: 0.4678709407883565\n",
      ":         Goodbye Minnesota,...you never earned the right to have an NHL \n",
      ": franchise in the first place!\n",
      ":         Hope you enjoy your Twin city wide mania for HIGH SCHOOL HOCKEY\n",
      ": (hey, by the way my old pee wee team is having a reunion in Regina, care \n",
      ": to come up and film the event?)\n",
      ":         Yee haa Golden Gophers\n",
      ": Whatta weird town!!!!!\n",
      "\n",
      ": s4lawren@sms.business.uwo.ca (Stephen Lawrence)\n",
      ": Western Business School  --  London, Ontario\n",
      "\n",
      "This is the second posting of this kind from an idiot at a business \n",
      "school in Canada. What is your problem up there anyway? Is this what \n",
      "they teach you in business school in Canada?\n",
      "----------------------------------------------------------------------------------------------------\n",
      "Query: Canada, angle: 0.49450674562036556\n",
      "All these people who send in their polls should take a closer look at\n",
      "NJD, they are a very deep team, with two very capable goalies, and\n",
      "excellent forwards and defensemen.  Shooter in Richer, an all around do\n",
      "it all in Todd, chef Stasny-master of a thousand dishes, power play\n",
      "captain-Stevens.  Take a look at the numbers, or play with them and see\n",
      "for yourselves.\n",
      "\n",
      "----------------------------------------------------------------------------------------------------\n",
      "Query: Canada, angle: 0.4952327594361747\n",
      "The European Space Agency has involvement with remote earth \n",
      "observation, and I presume this includes surveillance (optical etc.).\n",
      "So it's not just the US/USSR(ex) who are in the game.\n",
      "\n",
      "But what *is* the game? What can be done with space observation?\n",
      "The military functions of missile spotting, troop spotting etc. are well\n",
      "documented, but what about anything else?\n",
      "\n",
      "The biggest eg I can think of is to get a  metal sensing sat over a\n",
      "paying country and scan their territory for  precious metals.\n",
      "\n",
      "More importantly, if radar can spot water vapour (clouds), presumably\n",
      "a radar based sat will be capable of spotting rivers,open water and \n",
      "*underground water* from space. This would be a positive life saver\n",
      "for African or other drought affected countries. Implementing a\n",
      "clean water and irrigation program would be of imense benifit to such\n",
      "countries and should cut down mortalities considerably.\n",
      "\n",
      "So how about it? Is there a charity or government agency that would\n",
      "pay for a third world country to have their minerals and water deposits\n",
      "mapped?\n",
      "\n",
      "Or is this still sci-fi?\n",
      "\n",
      "Mail replies would be great.\n",
      "\n",
      "Thought for the day: Thermal energy needs water to make steam so sstick\n",
      "it in the ocean!\n",
      "\n",
      "\n",
      "----------------------------------------------------------------------------------------------------\n",
      "Query: Canada, angle: 0.4985697550917975\n",
      "Since someone brought up sports radio, howabout sportswriting???\n",
      "\n",
      "(Anyone give an opinion) \n",
      "\n",
      "Which city do you think has the best sports coverage in terms of\n",
      "print media? \n",
      "\n",
      "(these are general questions) \n",
      "\n",
      "Is the Washington Post better than the Philadelphia Inquier or the NY\n",
      "Times?  \n",
      "\n",
      "Howabout the Philadelphia Daily News compared to the New York Daily\n",
      "News?  \n",
      "\n",
      "----------------------------------------------------------------------------------------------------\n",
      "Query: Canada, angle: 0.5022460503664026\n",
      "So THAT'S what happened to Denny McLain.  Sad.\n",
      "\n",
      "For those of you who are interested, another baseball pariah,\n",
      "Pete Rose, has a weekday radio show on the Sports and\n",
      "Entertainment national radio network.  I think it's 3-5 PM\n",
      "locally, 6-8 PM on the East coast.\n",
      "\n",
      "And actually, his on-air monologues about the baseball\n",
      "business sounds a lot more reasonable and articulate\n",
      "than what I hear from the Ray Knights of the world.\n",
      "--\n",
      "Greg \"Mockingbird\" Franklin   \"Interracial mixing encompasses a lot lot more\n",
      "f67709907@ccit.arizona.edu      than mingling between G7 races.\" -- robohen\n",
      "----------------------------------------------------------------------------------------------------\n",
      "Query: Canada, angle: 0.5046013015762792\n",
      "\n",
      "   On the other hand, Rush made an interesting point: The Democrats ran\n",
      "   one of their best campaigns in years against a pathetic Republican and\n",
      "   a paranoiac and still only pulled 43% of the vote, lost 10 seats in\n",
      "   the House, and gained 0 seats in the Senate.  1994 might be pretty\n",
      "   interesting.\n",
      "\n",
      "Clueless of the world, take heart!  57% of the electorate is willing\n",
      "to vote for \"a pathetic Republican and a paranoiac\"!!\n",
      "----------------------------------------------------------------------------------------------------\n",
      "Query: Canada, angle: 0.5142341586789779\n",
      "[deleted]\n",
      "\n",
      "Not to flame (REALLY), but thats an abominable viewpoint (while were\n",
      "on the subject of abominations).  If we followed the \"redistiribution\n",
      "of wealth\" (and by the way, ist that what Clinto and the Democrats are\n",
      "trying to do...), EVERYONE would starve in short order.  Not only is\n",
      "it impossoble to organize a fair distribution that depends on every\n",
      "(wo)man's altruism (can you say black market under communisim\n",
      "anyone?), but the current methods of resource production are entirely\n",
      "energy dependant.  There are not enough sources of cheap capital\n",
      "(aside from human capital) to allow us to stop looking at space a an\n",
      "excellent source of materials and realestate.  More directly, perhaps\n",
      "you mioght consider the fact that BILLIONS are spent by TV companies,\n",
      "and their sponsors, (ABC, NBC, CBS...) on the SUPERBOWL, the OLYMPICS,\n",
      "and even on monday night baseball games.  Perhaps we should boycott\n",
      "those games?  If DC-X and company get finished, and there is a market\n",
      "for it, those \"abominable\" space will probably be much more cost\n",
      "effective for the companies, and those starving children.  More people\n",
      "buy products, the company hires more workers, end result fewer\n",
      "children die of starvation.\n",
      "\n",
      "-- \n",
      "----------------------------------------------------------------------------------------------------\n",
      "Query: Canada, angle: 0.5152925004086484\n",
      ": >\n",
      ": >ATLANTIC DIVISION\n",
      ": >\t\n",
      ": >\tST JOHN'S MAPLE LEAFS VS MONCTON HAWKS\n",
      ": >\tMONCTON HAWKS\n",
      ": >See CD Islanders. Moncton is a very similar team to CDI. Low scoring,\n",
      ": >defensive, good goaltending. John Leblanc and Stu Barnes are the only\n",
      ": >noticable guns on the team. But the defense is top notch and \n",
      ": >Mike O'Neill is the most underrated goalie in the league.\n",
      ": >\n",
      "\n",
      ": Bri, as I have tried to tell you since 2 February, Michael O'Neill\n",
      ": might be the most underrated goalie in the AHL, but he ISN'T in the\n",
      ": AHL.  He's on the Winnipeg Jets' injury list, as he has been since\n",
      ": his first NHL start against the Ottawa Senators.  He's out until\n",
      ": next year after surgery to repair a shoulder separation.\n",
      "\n",
      ": Stu Barnes might be an AHL gun for the Hawks, but he's now the third\n",
      ": line center with the Jets, and has been since mid January or so.\n",
      "\n",
      "Sorry, my memory is gone. I thought that O'Neill got sent back\n",
      "down in February but I must have been given incorrect info. I guess\n",
      "this says it all about Moncton because Barnes is still one of\n",
      "their top 3 or so scorers even though he's been out since January.\n",
      "----------------------------------------------------------------------------------------------------\n",
      "Query: Canada, angle: 0.5166610226846321\n",
      "\n",
      "Pocklington just wanted to wake up the powers that be holding political\n",
      "office, in Northlands, and in the business community that the Oilers\n",
      "with their current lease arrangement are in a state where on a yearly\n",
      "basis they will likely have an operating loss based on \"normal\" hockey\n",
      "revenues and expenses.  That he did this was a good thing...it is better\n",
      "he complain early, and make the city aware of a potential looming crisis\n",
      "before he begins to lose millions and millions of dollars...which would\n",
      "truly jeopardize the franchise.\n",
      "\n",
      "Pocklington's first option is not to sell or to move, but to sell\n",
      "a minority share of the team (to realize some of the appreciated value\n",
      "of the team) and to get a better arena deal, either in Northlands, or\n",
      "via a new building.  Pocklington probably isn't going to get exactly\n",
      "what he wants...but ultimately he will probably get enough, or will\n",
      "sell to someone who will probably get enough.\n",
      "\n",
      "There are a lot of risks in moving a team also...\n",
      "\n",
      "...one has to remember \"Peter Puck's principle\"...it is better to\n",
      "spend other people's money than one's own if at all possible.\n",
      "----------------------------------------------------------------------------------------------------\n"
     ]
    }
   ],
   "source": [
    "limit = 10\n",
    "\n",
    "for x in values_indexes[:limit]:\n",
    "    print(f\"Query: {x['query']}, angle: {x['angle']}\")\n",
    "    print(documents_df.iloc[x[\"document_index\"]][\"document\"])\n",
    "    print(100*\"-\")"
   ]
  },
  {
   "cell_type": "markdown",
   "id": "dental-pharmacy",
   "metadata": {},
   "source": [
    "## Optimal number of components"
   ]
  },
  {
   "cell_type": "code",
   "execution_count": 63,
   "id": "confidential-passage",
   "metadata": {},
   "outputs": [
    {
     "name": "stdout",
     "output_type": "stream",
     "text": [
      "The optimal number of components is 15\n"
     ]
    },
    {
     "data": {
      "text/plain": [
       "<matplotlib.collections.LineCollection at 0x7f988bd0c1c0>"
      ]
     },
     "execution_count": 63,
     "metadata": {},
     "output_type": "execute_result"
    },
    {
     "data": {
      "image/png": "[encoded data removed]",
      "text/plain": [
       "<Figure size 432x288 with 1 Axes>"
      ]
     },
     "metadata": {
      "needs_background": "light"
     },
     "output_type": "display_data"
    }
   ],
   "source": [
    "import matplotlib.pyplot as plt\n",
    "from kneed import KneeLocator\n",
    "\n",
    "_, s, _ = svds(tdm, k=200)\n",
    "\n",
    "x = range(1, len(s)+1)\n",
    "y = sorted(s, reverse=True)\n",
    "kn = KneeLocator(x, y, curve='convex', direction='decreasing')\n",
    "print(f\"The optimal number of components is {kn.knee}\")\n",
    "\n",
    "plt.xlabel('Number of components')\n",
    "plt.ylabel('Explained variance (?)')\n",
    "plt.plot(x, y, 'bx-')\n",
    "plt.vlines(kn.knee, plt.ylim()[0], plt.ylim()[1], linestyles='dashed')\n"
   ]
  },
  {
   "cell_type": "markdown",
   "id": "bizarre-hardware",
   "metadata": {},
   "source": [
    "## Sequential search"
   ]
  },
  {
   "cell_type": "code",
   "execution_count": null,
   "id": "brief-soldier",
   "metadata": {},
   "outputs": [],
   "source": [
    "limit_sequential = 20\n",
    "\n",
    "res = []\n",
    "for term in query:\n",
    "    indice = terms.index(term)\n",
    "    col = tdm[:, indice]\n",
    "    docs = [index for index, doc in enumerate(col) if doc > 0]\n",
    "    res = [*res, *docs]\n",
    "    \n",
    "for i in res[:limit_sequential]:\n",
    "    print(documents_df.loc[i, 'document'])\n",
    "    print(100*'-')"
   ]
  },
  {
   "cell_type": "code",
   "execution_count": null,
   "id": "skilled-overall",
   "metadata": {},
   "outputs": [],
   "source": []
  }
 ],
 "metadata": {
  "kernelspec": {
   "display_name": "Python 3",
   "language": "python",
   "name": "python3"
  },
  "language_info": {
   "codemirror_mode": {
    "name": "ipython",
    "version": 3
   },
   "file_extension": ".py",
   "mimetype": "text/x-python",
   "name": "python",
   "nbconvert_exporter": "python",
   "pygments_lexer": "ipython3",
   "version": "3.9.2"
  }
 },
 "nbformat": 4,
 "nbformat_minor": 5
}
