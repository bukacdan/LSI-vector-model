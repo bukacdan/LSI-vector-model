{
 "cells": [
  {
   "cell_type": "code",
   "execution_count": 79,
   "id": "printable-diagnosis",
   "metadata": {},
   "outputs": [],
   "source": [
    "import numpy as np\n",
    "import pandas as pd\n",
    "\n",
    "from nltk.corpus import stopwords\n",
    "from scipy.sparse.linalg import svds\n",
    "from sklearn.datasets import fetch_20newsgroups\n",
    "from sklearn.decomposition import TruncatedSVD\n",
    "from sklearn.feature_extraction.text import TfidfVectorizer\n",
    "from sklearn.metrics.pairwise import cosine_similarity"
   ]
  },
  {
   "cell_type": "markdown",
   "id": "rocky-congo",
   "metadata": {},
   "source": [
    "# Getting data"
   ]
  },
  {
   "cell_type": "code",
   "execution_count": 2,
   "id": "decimal-forum",
   "metadata": {},
   "outputs": [],
   "source": [
    "dataset = fetch_20newsgroups(\n",
    "    subset='all', \n",
    "    data_home='./sklearn_data', \n",
    "    remove=('headers', 'footers', 'quotes')\n",
    ")\n",
    "documents = dataset.data"
   ]
  },
  {
   "cell_type": "code",
   "execution_count": 3,
   "id": "canadian-purpose",
   "metadata": {},
   "outputs": [
    {
     "data": {
      "text/html": [
       "<div>\n",
       "<style scoped>\n",
       "    .dataframe tbody tr th:only-of-type {\n",
       "        vertical-align: middle;\n",
       "    }\n",
       "\n",
       "    .dataframe tbody tr th {\n",
       "        vertical-align: top;\n",
       "    }\n",
       "\n",
       "    .dataframe thead th {\n",
       "        text-align: right;\n",
       "    }\n",
       "</style>\n",
       "<table border=\"1\" class=\"dataframe\">\n",
       "  <thead>\n",
       "    <tr style=\"text-align: right;\">\n",
       "      <th></th>\n",
       "      <th>document</th>\n",
       "    </tr>\n",
       "  </thead>\n",
       "  <tbody>\n",
       "    <tr>\n",
       "      <th>0</th>\n",
       "      <td>\\n\\nI am sure some bashers of Pens fans are pr...</td>\n",
       "    </tr>\n",
       "    <tr>\n",
       "      <th>1</th>\n",
       "      <td>My brother is in the market for a high-perform...</td>\n",
       "    </tr>\n",
       "    <tr>\n",
       "      <th>2</th>\n",
       "      <td>\\n\\n\\n\\n\\tFinally you said what you dream abou...</td>\n",
       "    </tr>\n",
       "    <tr>\n",
       "      <th>3</th>\n",
       "      <td>\\nThink!\\n\\nIt's the SCSI card doing the DMA t...</td>\n",
       "    </tr>\n",
       "    <tr>\n",
       "      <th>4</th>\n",
       "      <td>1)    I have an old Jasmine drive which I cann...</td>\n",
       "    </tr>\n",
       "    <tr>\n",
       "      <th>...</th>\n",
       "      <td>...</td>\n",
       "    </tr>\n",
       "    <tr>\n",
       "      <th>18841</th>\n",
       "      <td>DN&gt; From: nyeda@cnsvax.uwec.edu (David Nye)\\nD...</td>\n",
       "    </tr>\n",
       "    <tr>\n",
       "      <th>18842</th>\n",
       "      <td>\\nNot in isolated ground recepticles (usually ...</td>\n",
       "    </tr>\n",
       "    <tr>\n",
       "      <th>18843</th>\n",
       "      <td>I just installed a DX2-66 CPU in a clone mothe...</td>\n",
       "    </tr>\n",
       "    <tr>\n",
       "      <th>18844</th>\n",
       "      <td>\\nWouldn't this require a hyper-sphere.  In 3-...</td>\n",
       "    </tr>\n",
       "    <tr>\n",
       "      <th>18845</th>\n",
       "      <td>After a tip from Gary Crum (crum@fcom.cc.utah....</td>\n",
       "    </tr>\n",
       "  </tbody>\n",
       "</table>\n",
       "<p>18846 rows × 1 columns</p>\n",
       "</div>"
      ],
      "text/plain": [
       "                                                document\n",
       "0      \\n\\nI am sure some bashers of Pens fans are pr...\n",
       "1      My brother is in the market for a high-perform...\n",
       "2      \\n\\n\\n\\n\\tFinally you said what you dream abou...\n",
       "3      \\nThink!\\n\\nIt's the SCSI card doing the DMA t...\n",
       "4      1)    I have an old Jasmine drive which I cann...\n",
       "...                                                  ...\n",
       "18841  DN> From: nyeda@cnsvax.uwec.edu (David Nye)\\nD...\n",
       "18842  \\nNot in isolated ground recepticles (usually ...\n",
       "18843  I just installed a DX2-66 CPU in a clone mothe...\n",
       "18844  \\nWouldn't this require a hyper-sphere.  In 3-...\n",
       "18845  After a tip from Gary Crum (crum@fcom.cc.utah....\n",
       "\n",
       "[18846 rows x 1 columns]"
      ]
     },
     "execution_count": 3,
     "metadata": {},
     "output_type": "execute_result"
    }
   ],
   "source": [
    "documents_df = pd.DataFrame({'document': documents})\n",
    "documents_df"
   ]
  },
  {
   "cell_type": "markdown",
   "id": "governmental-radiation",
   "metadata": {},
   "source": [
    "# Preprocessing data"
   ]
  },
  {
   "cell_type": "code",
   "execution_count": 4,
   "id": "dynamic-trustee",
   "metadata": {},
   "outputs": [],
   "source": [
    "def clean_documents(df, min_word_length=1):\n",
    "    df['document_cleaned'] = pd.Series(df.document)\n",
    "    df['document_cleaned'] = (\n",
    "        df['document_cleaned']\n",
    "        .pipe(lambda x: x.str.lower())  # make all letters lowercase \n",
    "        .pipe(lambda x: x.str.replace(\"\\S*@\\S*\\s?\", \"\", regex=True)) # remove email addresses\n",
    "        .pipe(lambda x: x.str.replace(\"[^a-zA-Z#]\", \" \", regex=True)) # remove non-alphabetical characters\n",
    "        .pipe(lambda x: pd.Series([' '.join([w for w in line if len(w) >= min_word_length]) for line in x.str.split()])) # get rid of short words\n",
    "    )  "
   ]
  },
  {
   "cell_type": "code",
   "execution_count": 5,
   "id": "simple-register",
   "metadata": {},
   "outputs": [
    {
     "data": {
      "text/html": [
       "<div>\n",
       "<style scoped>\n",
       "    .dataframe tbody tr th:only-of-type {\n",
       "        vertical-align: middle;\n",
       "    }\n",
       "\n",
       "    .dataframe tbody tr th {\n",
       "        vertical-align: top;\n",
       "    }\n",
       "\n",
       "    .dataframe thead th {\n",
       "        text-align: right;\n",
       "    }\n",
       "</style>\n",
       "<table border=\"1\" class=\"dataframe\">\n",
       "  <thead>\n",
       "    <tr style=\"text-align: right;\">\n",
       "      <th></th>\n",
       "      <th>document</th>\n",
       "      <th>document_cleaned</th>\n",
       "    </tr>\n",
       "  </thead>\n",
       "  <tbody>\n",
       "    <tr>\n",
       "      <th>0</th>\n",
       "      <td>\\n\\nI am sure some bashers of Pens fans are pr...</td>\n",
       "      <td>sure some bashers pens fans are pretty confuse...</td>\n",
       "    </tr>\n",
       "    <tr>\n",
       "      <th>1</th>\n",
       "      <td>My brother is in the market for a high-perform...</td>\n",
       "      <td>brother the market for high performance video ...</td>\n",
       "    </tr>\n",
       "    <tr>\n",
       "      <th>2</th>\n",
       "      <td>\\n\\n\\n\\n\\tFinally you said what you dream abou...</td>\n",
       "      <td>finally you said what you dream about mediterr...</td>\n",
       "    </tr>\n",
       "    <tr>\n",
       "      <th>3</th>\n",
       "      <td>\\nThink!\\n\\nIt's the SCSI card doing the DMA t...</td>\n",
       "      <td>think the scsi card doing the dma transfers no...</td>\n",
       "    </tr>\n",
       "    <tr>\n",
       "      <th>4</th>\n",
       "      <td>1)    I have an old Jasmine drive which I cann...</td>\n",
       "      <td>have old jasmine drive which cannot use with n...</td>\n",
       "    </tr>\n",
       "    <tr>\n",
       "      <th>...</th>\n",
       "      <td>...</td>\n",
       "      <td>...</td>\n",
       "    </tr>\n",
       "    <tr>\n",
       "      <th>18841</th>\n",
       "      <td>DN&gt; From: nyeda@cnsvax.uwec.edu (David Nye)\\nD...</td>\n",
       "      <td>from david nye neurology consultation cheaper ...</td>\n",
       "    </tr>\n",
       "    <tr>\n",
       "      <th>18842</th>\n",
       "      <td>\\nNot in isolated ground recepticles (usually ...</td>\n",
       "      <td>not isolated ground recepticles usually unusua...</td>\n",
       "    </tr>\n",
       "    <tr>\n",
       "      <th>18843</th>\n",
       "      <td>I just installed a DX2-66 CPU in a clone mothe...</td>\n",
       "      <td>just installed cpu clone motherboard and tried...</td>\n",
       "    </tr>\n",
       "    <tr>\n",
       "      <th>18844</th>\n",
       "      <td>\\nWouldn't this require a hyper-sphere.  In 3-...</td>\n",
       "      <td>wouldn this require hyper sphere space points ...</td>\n",
       "    </tr>\n",
       "    <tr>\n",
       "      <th>18845</th>\n",
       "      <td>After a tip from Gary Crum (crum@fcom.cc.utah....</td>\n",
       "      <td>after tip from gary crum got the phone with po...</td>\n",
       "    </tr>\n",
       "  </tbody>\n",
       "</table>\n",
       "<p>18846 rows × 2 columns</p>\n",
       "</div>"
      ],
      "text/plain": [
       "                                                document  \\\n",
       "0      \\n\\nI am sure some bashers of Pens fans are pr...   \n",
       "1      My brother is in the market for a high-perform...   \n",
       "2      \\n\\n\\n\\n\\tFinally you said what you dream abou...   \n",
       "3      \\nThink!\\n\\nIt's the SCSI card doing the DMA t...   \n",
       "4      1)    I have an old Jasmine drive which I cann...   \n",
       "...                                                  ...   \n",
       "18841  DN> From: nyeda@cnsvax.uwec.edu (David Nye)\\nD...   \n",
       "18842  \\nNot in isolated ground recepticles (usually ...   \n",
       "18843  I just installed a DX2-66 CPU in a clone mothe...   \n",
       "18844  \\nWouldn't this require a hyper-sphere.  In 3-...   \n",
       "18845  After a tip from Gary Crum (crum@fcom.cc.utah....   \n",
       "\n",
       "                                        document_cleaned  \n",
       "0      sure some bashers pens fans are pretty confuse...  \n",
       "1      brother the market for high performance video ...  \n",
       "2      finally you said what you dream about mediterr...  \n",
       "3      think the scsi card doing the dma transfers no...  \n",
       "4      have old jasmine drive which cannot use with n...  \n",
       "...                                                  ...  \n",
       "18841  from david nye neurology consultation cheaper ...  \n",
       "18842  not isolated ground recepticles usually unusua...  \n",
       "18843  just installed cpu clone motherboard and tried...  \n",
       "18844  wouldn this require hyper sphere space points ...  \n",
       "18845  after tip from gary crum got the phone with po...  \n",
       "\n",
       "[18846 rows x 2 columns]"
      ]
     },
     "execution_count": 5,
     "metadata": {},
     "output_type": "execute_result"
    }
   ],
   "source": [
    "clean_documents(documents_df, min_word_length=3)\n",
    "documents_df"
   ]
  },
  {
   "cell_type": "markdown",
   "id": "attended-asbestos",
   "metadata": {},
   "source": [
    "# Create term-by-document matrix"
   ]
  },
  {
   "cell_type": "code",
   "execution_count": 6,
   "id": "magnetic-ordinance",
   "metadata": {},
   "outputs": [
    {
     "name": "stdout",
     "output_type": "stream",
     "text": [
      "Found 84337 terms in 18846 documents.\n",
      "Example terms: ['aaa', 'aaaaa', 'aaaaaaaaaaaa', 'aaaaaaaaaaaaaaaaaaaaaaaaaaaaaaauuuuuuuuuuuuuuuuuuuuuuuuuuuuuuuugggggggggggggggg', 'aaaaarrrrgh', 'aaaall', 'aaack', 'aaaggghhh', 'aaah', 'aaahh', 'aaahhhh', 'aaai', 'aaaread', 'aab', 'aacc', 'aachen', 'aacs', 'aaef', 'aaf', 'aagain']\n"
     ]
    }
   ],
   "source": [
    "tfidf = TfidfVectorizer(stop_words='english')\n",
    "tdm = tfidf.fit_transform(documents_df.document_cleaned)\n",
    "terms = tfidf.get_feature_names()\n",
    "print(f'Found {tdm.shape[1]} terms in {tdm.shape[0]} documents.')\n",
    "print(\"Example terms:\", terms[:20])"
   ]
  },
  {
   "cell_type": "markdown",
   "id": "alternate-rally",
   "metadata": {},
   "source": [
    "# SVD"
   ]
  },
  {
   "cell_type": "markdown",
   "id": "polyphonic-manner",
   "metadata": {},
   "source": [
    "## sklearn.decomposition.TruncatedSVD"
   ]
  },
  {
   "cell_type": "code",
   "execution_count": 18,
   "id": "registered-wellington",
   "metadata": {},
   "outputs": [],
   "source": [
    "tsvd = TruncatedSVD(n_components=13, random_state=42)\n",
    "tdm_tsvd = tsvd.fit_transform(tdm)"
   ]
  },
  {
   "cell_type": "code",
   "execution_count": 19,
   "id": "preceding-funds",
   "metadata": {},
   "outputs": [
    {
     "name": "stdout",
     "output_type": "stream",
     "text": [
      "Topic 01: ['don', 'know', 'like', 'just', 'people', 'think', 'does', 'use', 'time', 'good']\n",
      "Topic 02: ['windows', 'thanks', 'drive', 'card', 'dos', 'scsi', 'file', 'software', 'disk', 'mail']\n",
      "Topic 03: ['god', 'windows', 'jesus', 'bible', 'does', 'dos', 'christ', 'thanks', 'faith', 'christian']\n",
      "Topic 04: ['drive', 'scsi', 'ide', 'god', 'hard', 'drives', 'controller', 'disk', 'card', 'bus']\n",
      "Topic 05: ['key', 'chip', 'government', 'encryption', 'clipper', 'keys', 'use', 'law', 'people', 'escrow']\n",
      "Topic 06: ['thanks', 'mail', 'know', 'does', 'advance', 'email', 'info', 'looking', 'list', 'information']\n",
      "Topic 07: ['key', 'god', 'game', 'chip', 'clipper', 'encryption', 'games', 'bit', 'keys', 'team']\n",
      "Topic 08: ['card', 'video', 'monitor', 'mhz', 'bus', 'drivers', 'cards', 'vga', 'car', 'driver']\n",
      "Topic 09: ['car', 'god', 'new', 'good', 'bike', 'window', 'space', 'engine', 'sale', 'just']\n",
      "Topic 10: ['know', 'does', 'don', 'just', 'think', 'thanks', 'like', 'really', 'bike', 'say']\n",
      "Topic 11: ['windows', 'dos', 'car', 'thanks', 'key', 'chip', 'mail', 'god', 'government', 'clipper']\n",
      "Topic 12: ['does', 'car', 'know', 'armenian', 'armenians', 'window', 'israel', 'turkish', 'jews', 'problem']\n",
      "Topic 13: ['scsi', 'know', 'car', 'does', 'ftp', 'space', 'file', 'drivers', 'files', 'bus']\n"
     ]
    }
   ],
   "source": [
    "for i, components in enumerate(tsvd.components_):\n",
    "    terms_components = zip(terms, components)\n",
    "    sorted_terms = sorted(terms_components, key=lambda x:x[1], reverse=True)[:10]\n",
    "    print(f\"Topic {str(i + 1).zfill(2)}: {[term[0] for term in sorted_terms]}\")"
   ]
  },
  {
   "cell_type": "markdown",
   "id": "comparable-beauty",
   "metadata": {},
   "source": [
    "This is our **concept-by-term matrix**"
   ]
  },
  {
   "cell_type": "code",
   "execution_count": 20,
   "id": "usual-absorption",
   "metadata": {},
   "outputs": [
    {
     "data": {
      "text/plain": [
       "(13, 84337)"
      ]
     },
     "execution_count": 20,
     "metadata": {},
     "output_type": "execute_result"
    }
   ],
   "source": [
    "tsvd.components_.shape"
   ]
  },
  {
   "cell_type": "code",
   "execution_count": 127,
   "id": "possible-beginning",
   "metadata": {},
   "outputs": [
    {
     "name": "stdout",
     "output_type": "stream",
     "text": [
      "[[ 2.44619563e-03  6.86423183e-05  7.35919448e-05 ...  1.10635348e-07\n",
      "   1.07044383e-04  8.20624466e-05]\n",
      " [-1.68862054e-03  5.71940052e-05 -7.47706811e-05 ...  2.29061491e-07\n",
      "  -7.31743493e-05 -1.42129681e-04]\n",
      " [-5.53030626e-03 -5.04482643e-05 -2.03560105e-05 ...  1.04413236e-07\n",
      "  -3.99273988e-04  3.57466838e-05]\n",
      " ...\n",
      " [ 5.16014792e-04 -7.95156304e-05 -2.37199732e-05 ... -4.92190683e-07\n",
      "   6.44789493e-05  6.95479055e-05]\n",
      " [ 5.91281490e-04  8.15204233e-05  8.14596795e-06 ... -8.74685179e-08\n",
      "  -2.82968010e-05  1.28890308e-04]\n",
      " [ 1.51237188e-03 -1.00595432e-04 -6.92934304e-06 ...  4.47350358e-07\n",
      "  -4.08106549e-04 -2.95285723e-05]]\n"
     ]
    }
   ],
   "source": [
    "print(tsvd.components_)"
   ]
  },
  {
   "cell_type": "markdown",
   "id": "coordinate-marble",
   "metadata": {},
   "source": [
    "## scipy.sparse.linalg.svds"
   ]
  },
  {
   "cell_type": "code",
   "execution_count": 66,
   "id": "disturbed-message",
   "metadata": {},
   "outputs": [],
   "source": [
    "u, s, vt = svds(tdm, k=13)"
   ]
  },
  {
   "cell_type": "code",
   "execution_count": 37,
   "id": "aggregate-organ",
   "metadata": {},
   "outputs": [
    {
     "data": {
      "text/plain": [
       "(18846, 84337)"
      ]
     },
     "metadata": {},
     "output_type": "display_data"
    },
    {
     "data": {
      "text/plain": [
       "(18846, 13)"
      ]
     },
     "metadata": {},
     "output_type": "display_data"
    },
    {
     "data": {
      "text/plain": [
       "(13,)"
      ]
     },
     "metadata": {},
     "output_type": "display_data"
    },
    {
     "data": {
      "text/plain": [
       "(13, 84337)"
      ]
     },
     "metadata": {},
     "output_type": "display_data"
    }
   ],
   "source": [
    "display(tdm.shape)\n",
    "display(u.shape)\n",
    "display(s.shape)\n",
    "display(vt.shape)"
   ]
  },
  {
   "cell_type": "markdown",
   "id": "simple-accommodation",
   "metadata": {},
   "source": [
    "- **tdm matrix**: shape(number_of_documents, number_of_terms) $\\Leftrightarrow$ term-by-document matrix\n",
    "- **u matrix**: shape(number_of_documents, number_of_concepts) $\\Leftrightarrow$ concept-by-document matrix\n",
    "- **s vector**: shape(number_of_concepts,) $\\Leftrightarrow$ concepts\n",
    "- **vt matrix**: shape(number_of_concepts, number_of_terms) $\\Leftrightarrow$ concept-by-term matrix"
   ]
  },
  {
   "cell_type": "markdown",
   "id": "significant-nutrition",
   "metadata": {},
   "source": [
    "# Representing query"
   ]
  },
  {
   "cell_type": "code",
   "execution_count": 204,
   "id": "intended-creek",
   "metadata": {},
   "outputs": [
    {
     "name": "stdout",
     "output_type": "stream",
     "text": [
      "(2, 84337)\n",
      "(2, 13)\n"
     ]
    }
   ],
   "source": [
    "query = 'windows, dos'\n",
    "query = query.split()\n",
    "query_tdm = tfidf.transform(query)\n",
    "query_tsvd = tsvd.transform(query_tdm) # probably not necessary\n",
    "print(query_tdm.shape)\n",
    "print(query_tsvd.shape)"
   ]
  },
  {
   "cell_type": "markdown",
   "id": "successful-regression",
   "metadata": {},
   "source": [
    "# Cosine similarity"
   ]
  },
  {
   "cell_type": "code",
   "execution_count": 205,
   "id": "unlimited-associate",
   "metadata": {},
   "outputs": [
    {
     "name": "stdout",
     "output_type": "stream",
     "text": [
      "(2, 13)\n",
      "[[1.67582841 1.68559014]\n",
      " [1.51756778 1.67703826]\n",
      " [1.53428082 1.61291977]\n",
      " ...\n",
      " [1.77935249 1.80315428]\n",
      " [1.8684965  1.84520695]\n",
      " [1.53767599 1.65796486]]\n"
     ]
    }
   ],
   "source": [
    "query_concepts = query_tdm @ np.transpose(vt) # query projection to the space of concepts --> concept-by-query\n",
    "sim = cosine_similarity(u, query_concepts) # cosine similarity between concept-by-documents and concept-by-query\n",
    "acos = np.arccos(sim)\n",
    "print(query_concepts.shape)\n",
    "print(acos)"
   ]
  },
  {
   "cell_type": "code",
   "execution_count": 206,
   "id": "latter-nebraska",
   "metadata": {},
   "outputs": [
    {
     "name": "stdout",
     "output_type": "stream",
     "text": [
      "windows, - 6924\n",
      "dos - 5404\n"
     ]
    }
   ],
   "source": [
    "best_documents = set()\n",
    "for i in range(acos.shape[1]):\n",
    "    print(query[i],end=\" - \")\n",
    "    print(np.argmin(acos[:, i]))\n",
    "    best_documents.add(np.argmin(acos[:, i]))"
   ]
  },
  {
   "cell_type": "code",
   "execution_count": 207,
   "id": "japanese-sound",
   "metadata": {},
   "outputs": [
    {
     "name": "stdout",
     "output_type": "stream",
     "text": [
      "om>\n",
      "\n",
      "\n",
      "Cliff, do you know the difference between \"Windows\" and \"Win-OS/2\"?  Here's\n",
      "a helpful hint:\n",
      "\n",
      "Running \"Windows\" under OS/2 2.0 is only possible in real mode, in a DOS\n",
      "box. Of course, this is only possible with Windows 3.0, since Windows 3.1\n",
      "no longer has a \"real mode\".\n",
      "\n",
      "The ability to run standard mode, the ability to have an OS/2 <-> Windows\n",
      "clipboard, the ability to run seamless, and a few other things were all added\n",
      "by IBM to \"Win-OS/2\".\n",
      "\n",
      "Now, everybody who is running \"Windows\" in real-mode in a DOS box under OS/2\n",
      "2.x raise your hand. Finally, everybody who is running \"Win-OS/2\" under OS/2,\n",
      "raise YOUR hand.\n",
      "\n",
      "Get the picture, Cliff?\n",
      "\n",
      "----------------------------------------------------------------------------------------------------\n",
      "Has anyone had experience porting imake to DOS using a Microsoft, Watcom, or\n",
      "any other DOS compiler? \n",
      "----------------------------------------------------------------------------------------------------\n"
     ]
    }
   ],
   "source": [
    "for document in best_documents:\n",
    "    print(documents_df.iloc[document][\"document\"])\n",
    "    print(100*\"-\")"
   ]
  },
  {
   "cell_type": "markdown",
   "id": "dental-pharmacy",
   "metadata": {},
   "source": [
    "## Optimal number of components"
   ]
  },
  {
   "cell_type": "code",
   "execution_count": 16,
   "id": "premium-helmet",
   "metadata": {},
   "outputs": [
    {
     "name": "stdout",
     "output_type": "stream",
     "text": [
      "The optimal number of components is 25\n"
     ]
    },
    {
     "data": {
      "text/plain": [
       "<matplotlib.collections.LineCollection at 0x7f8e6ac3d6a0>"
      ]
     },
     "execution_count": 16,
     "metadata": {},
     "output_type": "execute_result"
    },
    {
     "data": {
      "image/png": "[encoded data removed]",
      "text/plain": [
       "<Figure size 432x288 with 1 Axes>"
      ]
     },
     "metadata": {
      "needs_background": "light"
     },
     "output_type": "display_data"
    }
   ],
   "source": [
    "import matplotlib.pyplot as plt\n",
    "from kneed import KneeLocator\n",
    "\n",
    "tsvd = TruncatedSVD(n_components=200, random_state=42)\n",
    "tdm_tsvd = tsvd.fit_transform(tdm)\n",
    "\n",
    "x = range(1, len(tsvd.explained_variance_)+1)\n",
    "y = sorted(tsvd.explained_variance_, reverse=True)\n",
    "kn = KneeLocator(x, y, curve='convex', direction='decreasing')\n",
    "print(f\"The optimal number of components is {kn.knee}\")\n",
    "\n",
    "plt.xlabel('Number of components')\n",
    "plt.ylabel('Explained variance')\n",
    "plt.plot(x, y, 'bx-')\n",
    "plt.vlines(kn.knee, plt.ylim()[0], plt.ylim()[1], linestyles='dashed')\n"
   ]
  },
  {
   "cell_type": "code",
   "execution_count": 17,
   "id": "confidential-passage",
   "metadata": {},
   "outputs": [
    {
     "name": "stdout",
     "output_type": "stream",
     "text": [
      "The optimal number of components is 13\n"
     ]
    },
    {
     "data": {
      "text/plain": [
       "<matplotlib.collections.LineCollection at 0x7f8e6c639040>"
      ]
     },
     "execution_count": 17,
     "metadata": {},
     "output_type": "execute_result"
    },
    {
     "data": {
      "image/png": "[encoded data removed]",
      "text/plain": [
       "<Figure size 432x288 with 1 Axes>"
      ]
     },
     "metadata": {
      "needs_background": "light"
     },
     "output_type": "display_data"
    }
   ],
   "source": [
    "import matplotlib.pyplot as plt\n",
    "from kneed import KneeLocator\n",
    "\n",
    "_, s, _ = svds(tdm, k=200)\n",
    "\n",
    "x = range(1, len(s)+1)\n",
    "y = sorted(s, reverse=True)\n",
    "kn = KneeLocator(x, y, curve='convex', direction='decreasing')\n",
    "print(f\"The optimal number of components is {kn.knee}\")\n",
    "\n",
    "plt.xlabel('Number of components')\n",
    "plt.ylabel('Explained variance (?)')\n",
    "plt.plot(x, y, 'bx-')\n",
    "plt.vlines(kn.knee, plt.ylim()[0], plt.ylim()[1], linestyles='dashed')\n"
   ]
  }
 ],
 "metadata": {
  "kernelspec": {
   "display_name": "Python 3",
   "language": "python",
   "name": "python3"
  },
  "language_info": {
   "codemirror_mode": {
    "name": "ipython",
    "version": 3
   },
   "file_extension": ".py",
   "mimetype": "text/x-python",
   "name": "python",
   "nbconvert_exporter": "python",
   "pygments_lexer": "ipython3",
   "version": "3.9.2"
  }
 },
 "nbformat": 4,
 "nbformat_minor": 5
}
